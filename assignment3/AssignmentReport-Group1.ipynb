{
 "cells": [
  {
   "cell_type": "markdown",
   "metadata": {},
   "source": [
    "# Assignment 1 Report"
   ]
  },
  {
   "cell_type": "markdown",
   "metadata": {},
   "source": [
    "This is an outline for your report to ease the amount of work required to create your report. Jupyter notebook supports markdown, and I recommend you to check out this [cheat sheet](https://github.com/adam-p/markdown-here/wiki/Markdown-Cheatsheet). If you are not familiar with markdown.\n",
    "\n",
    "Before delivery, **remember to convert this file to PDF**. You can do it in two ways:\n",
    "1. Print the webpage (ctrl+P or cmd+P)\n",
    "2. Export with latex. This is somewhat more difficult, but you'll get somehwat of a \"prettier\" PDF. Go to File -> Download as -> PDF via LaTeX. You might have to install nbconvert and pandoc through conda; `conda install nbconvert pandoc`."
   ]
  },
  {
   "cell_type": "markdown",
   "metadata": {},
   "source": [
    "# Task 1"
   ]
  },
  {
   "cell_type": "markdown",
   "metadata": {},
   "source": [
    "## task 1a)\n",
    "\n",
    "### Answer\n",
    "[[-11   2   4  -1   7],\n",
    "\n",
    "[-24   8  12  -5  12],\n",
    "\n",
    "[-19  10   4  -3  15]]\n",
    "\n",
    "img"
   ]
  },
  {
   "cell_type": "markdown",
   "metadata": {},
   "source": [
    "## task 1b)\n",
    "\n",
    "Max pooling layers are the least sensitive to small translational variations of the input\n",
    "\n",
    "## task 1c)\n",
    "\n",
    "A padding of 3 pixels should be used in order to maintain the input dimensions\n",
    "\n",
    "## task 1d)\n",
    "\n",
    "You would need a kernel of size 5x5\n",
    "\n",
    "## task 1e)\n",
    "\n",
    "This would result in half the dimensions in both directions: 254x254\n",
    "\n",
    "## task 1f)\n",
    "\n",
    "This would effectively remove the boundary pixels, resulting in: 252x252\n",
    "\n",
    "## task 1g)\n",
    "\n",
    "The network has a total of 157 440 parameters\n",
    "\n",
    "img"
   ]
  },
  {
   "cell_type": "markdown",
   "metadata": {},
   "source": [
    "# Task 2\n",
    "\n",
    "### Task 2a)\n",
    "\n",
    "### Task 2b)\n",
    "\n",
    "Epoch: 0, Batches per seconds: 14.91, Global step:    351, Validation Loss: 1.69, Validation Accuracy: 0.384  \n",
    "Epoch: 0, Batches per seconds: 16.23, Global step:    702, Validation Loss: 1.38, Validation Accuracy: 0.497  \n",
    "Epoch: 1, Batches per seconds: 13.85, Global step:   1053, Validation Loss: 1.33, Validation Accuracy: 0.503  \n",
    "Epoch: 1, Batches per seconds: 14.67, Global step:   1404, Validation Loss: 1.26, Validation Accuracy: 0.560  \n",
    "Epoch: 2, Batches per seconds: 13.61, Global step:   1755, Validation Loss: 1.07, Validation Accuracy: 0.617  \n",
    "Epoch: 2, Batches per seconds: 14.17, Global step:   2106, Validation Loss: 1.00, Validation Accuracy: 0.658  \n",
    "Epoch: 3, Batches per seconds: 13.52, Global step:   2457, Validation Loss: 0.92, Validation Accuracy: 0.682  \n",
    "Epoch: 3, Batches per seconds: 13.94, Global step:   2808, Validation Loss: 0.98, Validation Accuracy: 0.649  \n",
    "Epoch: 4, Batches per seconds: 13.46, Global step:   3159, Validation Loss: 0.89, Validation Accuracy: 0.690  \n",
    "Epoch: 4, Batches per seconds: 13.77, Global step:   3510, Validation Loss: 0.84, Validation Accuracy: 0.710  \n",
    "Epoch: 5, Batches per seconds: 13.38, Global step:   3861, Validation Loss: 0.79, Validation Accuracy: 0.728  \n",
    "Epoch: 5, Batches per seconds: 13.65, Global step:   4212, Validation Loss: 0.81, Validation Accuracy: 0.723  \n",
    "Epoch: 6, Batches per seconds: 13.33, Global step:   4563, Validation Loss: 0.80, Validation Accuracy: 0.728  \n",
    "Epoch: 6, Batches per seconds: 13.57, Global step:   4914, Validation Loss: 0.82, Validation Accuracy: 0.728  \n",
    "Early stop criteria met  \n",
    "Early stopping.  \n",
    "  \n",
    "img"
   ]
  },
  {
   "cell_type": "markdown",
   "metadata": {},
   "source": [
    "# Task 3"
   ]
  },
  {
   "cell_type": "markdown",
   "metadata": {},
   "source": [
    "### Task 3a)\n",
    "\n",
    "3x3 kernel:\n",
    "\n",
    "Epoch: 0, Batches per seconds: 13.70, Global step:    351, Validation Loss: 1.66, Validation Accuracy: 0.393  \n",
    "Epoch: 0, Batches per seconds: 16.29, Global step:    702, Validation Loss: 1.46, Validation Accuracy: 0.474  \n",
    "Epoch: 1, Batches per seconds: 13.95, Global step:   1053, Validation Loss: 1.29, Validation Accuracy: 0.545  \n",
    "Epoch: 1, Batches per seconds: 15.18, Global step:   1404, Validation Loss: 1.26, Validation Accuracy: 0.553  \n",
    "Epoch: 2, Batches per seconds: 14.22, Global step:   1755, Validation Loss: 1.14, Validation Accuracy: 0.590  \n",
    "Epoch: 2, Batches per seconds: 14.94, Global step:   2106, Validation Loss: 1.05, Validation Accuracy: 0.635  \n",
    "Epoch: 3, Batches per seconds: 14.27, Global step:   2457, Validation Loss: 1.00, Validation Accuracy: 0.643  \n",
    "Epoch: 3, Batches per seconds: 14.77, Global step:   2808, Validation Loss: 0.89, Validation Accuracy: 0.684  \n",
    "Epoch: 4, Batches per seconds: 14.25, Global step:   3159, Validation Loss: 0.88, Validation Accuracy: 0.685  \n",
    "Epoch: 4, Batches per seconds: 14.67, Global step:   3510, Validation Loss: 0.86, Validation Accuracy: 0.695  \n",
    "Epoch: 5, Batches per seconds: 14.26, Global step:   3861, Validation Loss: 0.91, Validation Accuracy: 0.691  \n",
    "Epoch: 5, Batches per seconds: 14.61, Global step:   4212, Validation Loss: 0.81, Validation Accuracy: 0.717  \n",
    "Epoch: 6, Batches per seconds: 14.25, Global step:   4563, Validation Loss: 0.79, Validation Accuracy: 0.732  \n",
    "Epoch: 6, Batches per seconds: 14.56, Global step:   4914, Validation Loss: 0.78, Validation Accuracy: 0.728  \n",
    "Epoch: 7, Batches per seconds: 14.26, Global step:   5265, Validation Loss: 0.81, Validation Accuracy: 0.731  \n",
    "Epoch: 7, Batches per seconds: 14.53, Global step:   5616, Validation Loss: 0.75, Validation Accuracy: 0.742  \n",
    "Epoch: 8, Batches per seconds: 14.24, Global step:   5967, Validation Loss: 0.77, Validation Accuracy: 0.743  \n",
    "Epoch: 8, Batches per seconds: 14.44, Global step:   6318, Validation Loss: 0.74, Validation Accuracy: 0.750  \n",
    "Epoch: 9, Batches per seconds: 14.22, Global step:   6669, Validation Loss: 0.78, Validation Accuracy: 0.753  \n",
    "Epoch: 9, Batches per seconds: 14.43, Global step:   7020, Validation Loss: 0.76, Validation Accuracy: 0.752  \n",
    "  \n",
    "### Task 3b)\n",
    "### Task 3c)\n",
    "\n",
    "Adam and RMSProp bad\n",
    "\n",
    "### Task 3d)\n",
    "### Task 3e)\n",
    "### Task 3f)"
   ]
  },
  {
   "cell_type": "markdown",
   "metadata": {},
   "source": [
    "# Task 4"
   ]
  },
  {
   "cell_type": "markdown",
   "metadata": {},
   "source": [
    "## Task 4a)\n",
    "\n",
    "FILL IN ANSWER. "
   ]
  },
  {
   "cell_type": "markdown",
   "metadata": {},
   "source": [
    "## Task 4b)\n",
    "FILL IN ANSWER\n"
   ]
  },
  {
   "cell_type": "markdown",
   "metadata": {},
   "source": [
    "## Task 4c)\n",
    "FILL IN ANSWER"
   ]
  }
 ],
 "metadata": {
  "kernelspec": {
   "display_name": "Python 3.8.1 64-bit ('py38': conda)",
   "language": "python",
   "name": "python38164bitpy38condac1f68ca5407a4349b0d7e37676f2fbb3"
  },
  "language_info": {
   "codemirror_mode": {
    "name": "ipython",
    "version": 3
   },
   "file_extension": ".py",
   "mimetype": "text/x-python",
   "name": "python",
   "nbconvert_exporter": "python",
   "pygments_lexer": "ipython3",
   "version": "3.8.1"
  }
 },
 "nbformat": 4,
 "nbformat_minor": 4
}
