{
 "cells": [
  {
   "cell_type": "markdown",
   "metadata": {},
   "source": [
    "# Assignment 2 Report"
   ]
  },
  {
   "cell_type": "markdown",
   "metadata": {},
   "source": [
    "This is an outline for your report to ease the amount of work required to create your report. Jupyter notebook supports markdown, and I recommend you to check out this [cheat sheet](https://github.com/adam-p/markdown-here/wiki/Markdown-Cheatsheet). If you are not familiar with markdown.\n",
    "\n",
    "Before delivery, **remember to convert this file to PDF**. You can do it in two ways:\n",
    "1. Print the webpage (ctrl+P or cmd+P)\n",
    "2. Export with latex. This is somewhat more difficult, but you'll get somehwat of a \"prettier\" PDF. Go to File -> Download as -> PDF via LaTeX. You might have to install nbconvert and pandoc through conda; `conda install nbconvert pandoc`."
   ]
  },
  {
   "cell_type": "markdown",
   "metadata": {},
   "source": [
    "# Task 1"
   ]
  },
  {
   "cell_type": "markdown",
   "metadata": {},
   "source": [
    "<img src=\"./images/task1a.jpg\" width=\"500\" height=\"600\">\n",
    "<br>\n",
    "<img src=\"./images/task1b.jpg\" width=\"500\" height=\"600\">"
   ]
  },
  {
   "cell_type": "markdown",
   "metadata": {},
   "source": [
    "# Task 2"
   ]
  },
  {
   "cell_type": "markdown",
   "metadata": {},
   "source": [
    "## Task 2c)\n",
    "![](../task2c_train_loss.png)\n",
    "\n",
    "Initializing weight to shape: (785, 64)\n",
    "\n",
    "Initializing weight to shape: (65, 10)\n",
    "\n",
    "Final Train Cross Entropy Loss: 0.07382720758431738\n",
    "\n",
    "Final Validation Cross Entropy Loss: 0.287529539404862\n",
    "\n",
    "Train accuracy: 0.9835\n",
    "\n",
    "Validation accuracy: 0.9178\n"
   ]
  },
  {
   "cell_type": "markdown",
   "metadata": {},
   "source": [
    "## Task 2d)\n",
    "There are 4 parameters definded in the model in task 2c:\n",
    "- neurons_per_layer\n",
    "- use_improved_sigmoid\n",
    "- use_improved_weight_init\n",
    "- use_relu"
   ]
  },
  {
   "cell_type": "markdown",
   "metadata": {},
   "source": [
    "# Task 3"
   ]
  },
  {
   "cell_type": "markdown",
   "metadata": {},
   "source": [
    "### a) Improved weight initialization:\n",
    "\n",
    "![](../task3a_train_loss.png)\n",
    "\n",
    "Initializing weight to shape: (785, 64)\n",
    "\n",
    "Initializing weight to shape: (65, 10)\n",
    "\n",
    "Stopped early at epoch:  42\n",
    "\n",
    "Final Train Cross Entropy Loss: 0.016055967971192676\n",
    "\n",
    "Final Validation Cross Entropy Loss: 0.14150423879920704\n",
    "\n",
    "Train accuracy: 0.99895\n",
    "\n",
    "Validation accuracy: 0.9584\n",
    "\n",
    "\n",
    "### b) Improved sigmoid function:\n",
    "\n",
    "![](../task3b_train_loss.png)\n",
    "\n",
    "Initializing weight to shape: (785, 64)\n",
    "\n",
    "Initializing weight to shape: (65, 10)\n",
    "\n",
    "Stopped early at epoch:  18\n",
    "\n",
    "Final Train Cross Entropy Loss: 0.004840055508996915\n",
    "\n",
    "Final Validation Cross Entropy Loss: 0.14737265533848212\n",
    "\n",
    "Train accuracy: 0.9999\n",
    "\n",
    "Validation accuracy: 0.9634\n",
    "\n",
    "### c) Using momentum:\n",
    "\n",
    "![](../task3c_train_loss.png)\n",
    "\n",
    "Initializing weight to shape: (785, 64)\n",
    "\n",
    "Initializing weight to shape: (65, 10)\n",
    "\n",
    "Stopped early at epoch:  27\n",
    "\n",
    "Final Train Cross Entropy Loss: 0.009920323337795293\n",
    "\n",
    "Final Validation Cross Entropy Loss: 0.136488080723755\n",
    "\n",
    "Train accuracy: 0.99975\n",
    "\n",
    "Validation accuracy: 0.9621\n"
   ]
  },
  {
   "cell_type": "markdown",
   "metadata": {},
   "source": [
    "# Task 4"
   ]
  },
  {
   "cell_type": "markdown",
   "metadata": {},
   "source": [
    "## Task 4a)\n",
    "\n",
    "![](../task4a_train_loss.png)\n",
    "\n",
    "Initializing weight to shape: (785, 32)\n",
    "\n",
    "Initializing weight to shape: (33, 10)\n",
    "\n",
    "Stopped early at epoch:  21\n",
    "\n",
    "Final Train Cross Entropy Loss: 0.03675449331983312\n",
    "\n",
    "Final Validation Cross Entropy Loss: 0.1899588597661167\n",
    "\n",
    "Train accuracy: 0.9925\n",
    "\n",
    "Validation accuracy: 0.9479\n",
    "\n",
    "### Answer\n",
    "\n",
    "With a decrease in hidden units, we observe that the cross entropy loss increase by quite a bit. Additionally, the accuracy decreased from 96.2% to 94.8%."
   ]
  },
  {
   "cell_type": "markdown",
   "metadata": {},
   "source": [
    "## Task 4b)\n",
    "FILL IN ANSWER\n"
   ]
  },
  {
   "cell_type": "markdown",
   "metadata": {},
   "source": [
    "## Task 4d)\n",
    "FILL IN ANSWER"
   ]
  },
  {
   "cell_type": "markdown",
   "metadata": {},
   "source": [
    "## Task 4e)\n",
    "FILL IN ANSWER"
   ]
  }
 ],
 "metadata": {
  "kernelspec": {
   "display_name": "tdt4265",
   "language": "python",
   "name": "python3"
  },
  "language_info": {
   "codemirror_mode": {
    "name": "ipython",
    "version": 3
   },
   "file_extension": ".py",
   "mimetype": "text/x-python",
   "name": "python",
   "nbconvert_exporter": "python",
   "pygments_lexer": "ipython3",
   "version": "3.10.13"
  }
 },
 "nbformat": 4,
 "nbformat_minor": 4
}
